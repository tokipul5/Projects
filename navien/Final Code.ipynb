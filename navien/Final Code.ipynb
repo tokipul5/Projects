{
 "cells": [
  {
   "cell_type": "code",
   "execution_count": null,
   "metadata": {},
   "outputs": [],
   "source": [
    "import pandas as pd\n",
    "import time\n",
    "import numpy as np\n",
    "from pandas import ExcelFile"
   ]
  },
  {
   "cell_type": "code",
   "execution_count": null,
   "metadata": {
    "scrolled": true
   },
   "outputs": [],
   "source": [
    "file_loc = '/Users/keeyou/Desktop/Navien/4-2020 Sales Commission (to be detailed).xlsx'"
   ]
  },
  {
   "cell_type": "code",
   "execution_count": null,
   "metadata": {},
   "outputs": [],
   "source": [
    "#Find Collections and SAP to make DataFrame and then, return three DataFrames\n",
    "def returnDataFrame(fileLoc):\n",
    "    read_summary = pd.read_excel(file_loc, sheet_name = 'Total by Rep (USD Funds)')\n",
    "    read_detail = pd.read_excel(file_loc, sheet_name = 'SAP')\n",
    "    read_new = pd.read_excel(file_loc, sheet_name = 'New Product')\n",
    "    summary = pd.DataFrame(read_summary)\n",
    "    detail = pd.DataFrame(read_detail)\n",
    "    newProduct = pd.DataFrame(read_new)\n",
    "    return summary, detail, newProduct"
   ]
  },
  {
   "cell_type": "code",
   "execution_count": null,
   "metadata": {
    "scrolled": true
   },
   "outputs": [],
   "source": [
    "startTime = time.time()\n",
    "summary, detail, newProduct = returnDataFrame(file_loc)\n",
    "print(\"--- %s seconds ---\" % (time.time() - startTime))"
   ]
  },
  {
   "cell_type": "code",
   "execution_count": null,
   "metadata": {},
   "outputs": [],
   "source": [
    "#Sort billing numbers in increasing order in detail (SAP)\n",
    "detail = detail.sort_values(by=['Billing Doc.'])\n",
    "#Reset index \n",
    "detail = detail.reset_index()"
   ]
  },
  {
   "cell_type": "code",
   "execution_count": null,
   "metadata": {},
   "outputs": [],
   "source": [
    "#If the billing number does not start with 9 or the length of it is not equal to 8 then remove those rows.\n",
    "def filteringBillingNumber(summary, table):\n",
    "    for i in summary.index:\n",
    "        billingNum = str(summary['Invoice / Credit Memo'][i])\n",
    "        if len(billingNum) != 8 and billingNum[0] != \"9\":\n",
    "            table = table.append(summary.iloc[i, :])\n",
    "            summary = summary.drop([i], axis=0)\n",
    "    summary = summary.reset_index()\n",
    "    return summary, table"
   ]
  },
  {
   "cell_type": "code",
   "execution_count": null,
   "metadata": {},
   "outputs": [],
   "source": [
    "#Find rows corresponding to its billing numbers from detailed (SAP)\n",
    "def findPosition(detail, billingNum):\n",
    "    start = 0\n",
    "    end = detail.index._stop-1\n",
    "    middle = (end//2)\n",
    "    #print(start, middle, end)\n",
    "    count = 0\n",
    "    while (billingNum != str(detail['Billing Doc.'][start]) \n",
    "           and billingNum != str(detail['Billing Doc.'][middle])\n",
    "           and billingNum != str(detail['Billing Doc.'][end]) \n",
    "           and count < 15):\n",
    "        if billingNum > str(detail['Billing Doc.'][start]) and billingNum < str(detail['Billing Doc.'][middle]):\n",
    "            end = middle\n",
    "            middle = ((end + start)//2)\n",
    "            #print(1)\n",
    "            #print(start, middle, end)\n",
    "        else:\n",
    "            start = middle\n",
    "            middle = ((end + start)//2)\n",
    "            #print(2)\n",
    "            #print(start, middle, end)\n",
    "        count += 1\n",
    "    return start, end"
   ]
  },
  {
   "cell_type": "code",
   "execution_count": null,
   "metadata": {},
   "outputs": [],
   "source": [
    "def returnRows(billingNum, Type, detail, percentDiscount, amount, discountAmt, rate, ck, depositDate, salesRep):\n",
    "    total = 0\n",
    "    count = 0\n",
    "    totalDiscount = 0\n",
    "    #Match Type with PH1 D.\n",
    "    ph1d = \"\"\n",
    "    if Type == \"WH\":\n",
    "        ph1d = \"US_WATER HEATER\"\n",
    "    elif Type == \"Boiler\":\n",
    "        ph1d = \"US_BOILER\"\n",
    "    elif Type == \"Part\":\n",
    "        ph1d = \"US_OTHER ITEMS\"\n",
    "     \n",
    "    rows = pd.DataFrame([], columns=[])\n",
    "    start, end = findPosition(detail, str(billingNum))\n",
    "    for i in range(start, end):\n",
    "        if str(detail['Billing Doc.'][i]) == str(billingNum) and detail['PH1 D.'][i] == ph1d:\n",
    "            discountedPrice = float(detail['Net amount'][i] - (float(detail['Net amount'][i]) * float(percentDiscount)))\n",
    "            if pd.isna(percentDiscount):\n",
    "                discountedPrice = round(float(detail['Net amount'][i]), 2)\n",
    "            total += detail['Net amount'][i]\n",
    "            oldOrNew = checkOldNew(detail['Material1'][i], [detail['Material'][i]], newProduct)\n",
    "            extraCom = 0.0\n",
    "            if oldOrNew == \"New\":\n",
    "                #Extra Commission: 0.005 = 0.5%\n",
    "                extraCom = round(discountedPrice * 0.005, 2)\n",
    "            df = pd.DataFrame({'Deposit Date': [depositDate],\n",
    "                               'Ck#': [ck],\n",
    "                               'P.O.# / RGA# / Debit Memo #': [detail['PO NO.'][i]], \n",
    "                               'Invoice / Credit Memo': [detail['Billing Doc.'][i]], \n",
    "                               'Customer': [detail['Sold-to'][i]],\n",
    "                               'City': [detail['Ship-to city Name'][i]],\n",
    "                               'State / Prov.': [detail['Ship-to state'][i]],\n",
    "                               'Sales Rep': [salesRep],#[detail['Sales Rep(Doc)1'][i]],\n",
    "                               'New/ Old': [oldOrNew],\n",
    "                               'Item': [detail['Material'][i]], \n",
    "                               'Item Desc': [detail['Material1'][i]],\n",
    "                               'Receipt Amt': [round(float(detail['Total amount'][i]), 2)],\n",
    "                               'Sales Discount': [round(float(detail['Net amount'][i]) * float(percentDiscount), 2)],\n",
    "                               'Net Amt': [round(discountedPrice, 2)],\n",
    "                               'Commission': [round(discountedPrice * rate, 2)],\n",
    "                               'Extra Comm': [extraCom],\n",
    "                               'Rate': [rate],\n",
    "                               'Type': [Type]},#[detail['PH1 D.'][i]]}, \n",
    "                               index = [count])\n",
    "            totalDiscount += float(detail['Net amount'][i]) * float(percentDiscount)\n",
    "            rows = rows.append(df)\n",
    "            count += 1\n",
    "            \n",
    "    #Set true and false to check if the total amount matches\n",
    "    accuracy = False\n",
    "    if round(float(total), 2) == round(float(amount), 2):\n",
    "        accuracy = True\n",
    "    accuracyDis = False\n",
    "    if round(float(totalDiscount), 2) == round(float(discountAmt), 2):\n",
    "        accuracyDis = True\n",
    "    if pd.isna(totalDiscount):\n",
    "        accuracyDis = True\n",
    "    #Add totalAmount at the end of row\n",
    "    totalAmount = pd.DataFrame({'Item Desc': ['Total'], \n",
    "                                'Receipt Amt': [round(total, 2)], \n",
    "                                'Accuracy of Receipt Amt': [str(accuracy)],\n",
    "                                'Sales Discount': [round(totalDiscount, 2)],\n",
    "                                'Accuracy of Sales Discount': [str(accuracyDis)]})\n",
    "\n",
    "    #Append totalAmount row\n",
    "    rows = rows.append(totalAmount, ignore_index=True)\n",
    "    return rows"
   ]
  },
  {
   "cell_type": "code",
   "execution_count": null,
   "metadata": {},
   "outputs": [],
   "source": [
    "#Check if the product is new or old\n",
    "def checkOldNew(itemNum, itemDesc, newProduct):\n",
    "    oldOrNew = \"Old\"\n",
    "    for i in newProduct.index:\n",
    "        if newProduct['Product Number'][i] == itemNum or newProduct['Product Description'][i] == itemDesc:\n",
    "            oldOrNew = \"New\"\n",
    "    return oldOrNew"
   ]
  },
  {
   "cell_type": "code",
   "execution_count": null,
   "metadata": {},
   "outputs": [],
   "source": [
    "#HIghlight the summarized row with yellow color\n",
    "def highlight(row):\n",
    "    if pd.isna(row.Customer):\n",
    "        return ['background-color: white'] * len(row.values)\n",
    "    if pd.isna(row.Item):\n",
    "        return ['background-color: yellow'] * len(row.values)\n",
    "    else:\n",
    "        return ['background-color: white'] * len(row.values)"
   ]
  },
  {
   "cell_type": "code",
   "execution_count": null,
   "metadata": {
    "scrolled": true
   },
   "outputs": [],
   "source": [
    "#summary = summary[summary.Ck != 'Transfer']\n",
    "startTime = time.time()\n",
    "table = pd.DataFrame([], columns=['Deposit Date', 'Ck#', 'P.O.# / RGA# / Debit Memo #', 'Invoice / Credit Memo', \n",
    "                                  'Customer', 'City', 'State / Prov.', 'Sales Rep', 'New/ Old', 'Item',\n",
    "                                  'Item Desc', 'Receipt Amt', 'Accuracy of Receipt Amt', 'Sales Discount', \n",
    "                                  'Accuracy of Sales Discount', 'Shipping', 'DC/120+ Discount', 'Adj.', \n",
    "                                  'Net Amt', 'Commission', 'Rate', 'Extra Comm', 'Notes', 'Type'])\n",
    "for i in summary.index:\n",
    "    print(round(i/summary.index._stop*100, 2), \"%\")\n",
    "    #End the program when it reaches the end\n",
    "    if pd.isna(summary['Ck#'][i]):\n",
    "        break;\n",
    "    table = table.append(summary.iloc[i, :])\n",
    "    percentDiscount = summary['Sales Discount'][i] / summary['Receipt Amt'][i]\n",
    "    amount = float(summary['Receipt Amt'][i])\n",
    "    amountDis = float(summary['Sales Discount'][i])\n",
    "    rate = float(summary['Rate'][i])\n",
    "    ck = summary['Ck#'][i]\n",
    "    Type = summary['Type'][i]\n",
    "    depositDate = summary['Deposit Date'][i]\n",
    "    salesRep = summary['Sales Rep'][i]\n",
    "    rows = returnRows(summary['Invoice / Credit Memo'][i], Type, detail, percentDiscount, amount, amountDis, rate, ck, depositDate, salesRep)\n",
    "    \n",
    "    for j in rows.index:\n",
    "        table = table.append(rows.iloc[j, :])\n",
    "table = table.reset_index(drop=True).style.apply(highlight, axis=1)\n",
    "print(\"100%\")\n",
    "print(\"--- %s seconds ---\" % (time.time() - startTime))\n",
    "print(\"Finished\")"
   ]
  },
  {
   "cell_type": "code",
   "execution_count": null,
   "metadata": {},
   "outputs": [],
   "source": [
    "startTime = time.time()\n",
    "table.to_excel(\"04-2020 (USD Funds).xlsx\")\n",
    "print(\"--- %s seconds ---\" % (time.time() - startTime))"
   ]
  },
  {
   "cell_type": "code",
   "execution_count": null,
   "metadata": {},
   "outputs": [],
   "source": []
  }
 ],
 "metadata": {
  "kernelspec": {
   "display_name": "Python 3",
   "language": "python",
   "name": "python3"
  },
  "language_info": {
   "codemirror_mode": {
    "name": "ipython",
    "version": 3
   },
   "file_extension": ".py",
   "mimetype": "text/x-python",
   "name": "python",
   "nbconvert_exporter": "python",
   "pygments_lexer": "ipython3",
   "version": "3.7.3"
  }
 },
 "nbformat": 4,
 "nbformat_minor": 2
}
